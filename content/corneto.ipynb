{
 "cells": [
  {
   "attachments": {},
   "cell_type": "markdown",
   "metadata": {
    "tags": []
   },
   "source": [
    "<div style=\"text-align: center;\">\n",
    "  <img src=\"https://saezlab.github.io/corneto/main/_images/logo.png\" alt=\"Corneto Logo\" style=\"height: 150px; width: auto;\">\n",
    "</div>\n"
   ]
  },
  {
   "cell_type": "code",
   "execution_count": null,
   "metadata": {},
   "outputs": [],
   "source": [
    "%pip install corneto\n",
    "%pip install graphviz\n",
    "%pip install emfs:./cvxpy_base-1.4.3-cp311-cp311-emscripten_3_1_46_wasm32.whl"
   ]
  },
  {
   "cell_type": "code",
   "execution_count": null,
   "metadata": {},
   "outputs": [],
   "source": [
    "import corneto as cn\n",
    "import cvxpy as cp\n",
    "import importlib.util\n",
    "import sys\n",
    "\n",
    "def load_module_from_file(module_name, file_path):\n",
    "    spec = importlib.util.spec_from_file_location(module_name, file_path)\n",
    "    module = importlib.util.module_from_spec(spec)\n",
    "    spec.loader.exec_module(module)\n",
    "    return module\n",
    "\n",
    "# Load viz.py file with the code for rendering graphviz using viz.js\n",
    "viz = load_module_from_file(\"viz\", \"viz.py\")"
   ]
  },
  {
   "cell_type": "code",
   "execution_count": null,
   "metadata": {},
   "outputs": [],
   "source": [
    "cn.info()"
   ]
  },
  {
   "cell_type": "code",
   "execution_count": null,
   "metadata": {},
   "outputs": [],
   "source": [
    "from corneto.methods import runVanillaCarnival\n",
    "\n",
    "G = cn.Graph.from_sif_tuples(\n",
    "    [\n",
    "        ('I1',  1, 'N1'),\n",
    "        ('N1',  1, 'M1'),\n",
    "        ('N1',  1, 'M2'),\n",
    "        ('I2', -1, 'N2'),\n",
    "        ('N2', -1, 'M2'),\n",
    "        ('N2', -1, 'M1')\n",
    "    ]\n",
    ")\n",
    "\n",
    "measurements = {'M1': 1, 'M2': 1}\n",
    "perturbations = {'I1': 1, 'I2': 1}\n",
    "\n",
    "p, Gf = runVanillaCarnival(perturbations, measurements, G)"
   ]
  },
  {
   "cell_type": "code",
   "execution_count": null,
   "metadata": {},
   "outputs": [],
   "source": [
    "p.symbols[\"_flow\"].value"
   ]
  },
  {
   "cell_type": "code",
   "execution_count": null,
   "metadata": {},
   "outputs": [],
   "source": [
    "graph = G.to_graphviz(problem=p)\n",
    "viz.render_dot(graph)"
   ]
  }
 ],
 "metadata": {
  "kernelspec": {
   "display_name": "Python 3 (ipykernel)",
   "language": "python",
   "name": "python3"
  },
  "language_info": {
   "codemirror_mode": {
    "name": "ipython",
    "version": 3
   },
   "file_extension": ".py",
   "mimetype": "text/x-python",
   "name": "python",
   "nbconvert_exporter": "python",
   "pygments_lexer": "ipython3",
   "version": "3.10.13"
  }
 },
 "nbformat": 4,
 "nbformat_minor": 4
}
