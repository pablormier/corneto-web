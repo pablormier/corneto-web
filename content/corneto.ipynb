{
 "cells": [
  {
   "attachments": {},
   "cell_type": "markdown",
   "metadata": {
    "tags": []
   },
   "source": [
    "<div style=\"text-align: center;\">\n",
    "  <img src=\"https://saezlab.github.io/corneto/main/_images/logo.png\" alt=\"Corneto Logo\" style=\"height: 150px; width: auto;\">\n",
    "</div>\n"
   ]
  },
  {
   "cell_type": "code",
   "execution_count": null,
   "metadata": {},
   "outputs": [],
   "source": [
    "%pip install corneto\n",
    "%pip install emfs:./cvxpy_base-1.4.3-cp311-cp311-emscripten_3_1_46_wasm32.whl"
   ]
  },
  {
   "cell_type": "code",
   "execution_count": null,
   "metadata": {},
   "outputs": [],
   "source": [
    "import corneto as cn\n",
    "import cvxpy as cp\n",
    "\n",
    "cp.__version__"
   ]
  },
  {
   "cell_type": "code",
   "execution_count": null,
   "metadata": {},
   "outputs": [],
   "source": [
    "cn.info()"
   ]
  },
  {
   "cell_type": "code",
   "execution_count": null,
   "metadata": {},
   "outputs": [],
   "source": [
    "from corneto.methods import runVanillaCarnival\n",
    "\n",
    "G = cn.Graph.from_sif_tuples(\n",
    "    [\n",
    "        ('I1',  1, 'N1'),\n",
    "        ('N1',  1, 'M1'),\n",
    "        ('N1',  1, 'M2'),\n",
    "        ('I2', -1, 'N2'),\n",
    "        ('N2', -1, 'M2'),\n",
    "        ('N2', -1, 'M1')\n",
    "    ]\n",
    ")\n",
    "\n",
    "measurements = {'M1': 1, 'M2': 1}\n",
    "perturbations = {'I1': 1, 'I2': 1}\n",
    "\n",
    "p, Gf = runVanillaCarnival(perturbations, measurements, G)"
   ]
  },
  {
   "cell_type": "code",
   "execution_count": null,
   "metadata": {},
   "outputs": [],
   "source": [
    "p.symbols[\"_flow\"].value"
   ]
  },
  {
   "cell_type": "code",
   "execution_count": null,
   "metadata": {},
   "outputs": [],
   "source": [
    "graphviz = G.to_graphviz(problem=p)"
   ]
  },
  {
   "cell_type": "code",
   "execution_count": null,
   "metadata": {},
   "outputs": [],
   "source": [
    "%%writefile graph.dot\n",
    "graphviz.source"
   ]
  },
  {
   "cell_type": "code",
   "execution_count": null,
   "metadata": {},
   "outputs": [],
   "source": [
    "def display_graph_from_dot(dot_file_path):\n",
    "    import base64\n",
    "    from IPython.display import display, HTML\n",
    "\n",
    "    # Read the DOT file\n",
    "    try:\n",
    "        with open(dot_file_path, 'r') as file:\n",
    "            dot_string = file.read()\n",
    "    except IOError as e:\n",
    "        print(f\"Error reading file: {e}\")\n",
    "        return\n",
    "\n",
    "    # Base64 encode the DOT content to safely embed it in HTML/JavaScript\n",
    "    dot_string_base64 = base64.b64encode(dot_string.encode()).decode('utf-8')\n",
    "\n",
    "    # Create the HTML code to display the graph\n",
    "    html_code = f\"\"\"\n",
    "    <div id='graph-container'></div> <!-- Container to display the graph -->\n",
    "    <script src='https://cdnjs.cloudflare.com/ajax/libs/viz.js/2.1.2/viz.js'></script>\n",
    "    <script src='https://cdnjs.cloudflare.com/ajax/libs/viz.js/2.1.2/full.render.js'></script>\n",
    "    <script>\n",
    "    function renderGraph(encodedDot) {{\n",
    "        var viz = new Viz();\n",
    "        // Decode the base64 string to get the DOT format\n",
    "        var dotString = atob(encodedDot);\n",
    "        \n",
    "        viz.renderSVGElement(dotString)\n",
    "            .then(function(element) {{\n",
    "                document.getElementById('graph-container').appendChild(element);\n",
    "            }})\n",
    "            .catch(error => {{\n",
    "                console.error('Error rendering graph:', error);\n",
    "            }});\n",
    "    }}\n",
    "\n",
    "    // Execute the rendering function with the base64-encoded DOT string\n",
    "    renderGraph(\"{dot_string_base64}\");\n",
    "    </script>\n",
    "    \"\"\"\n",
    "\n",
    "    display(HTML(html_code))\n",
    "\n",
    "display_graph_from_dot('graph.dot')"
   ]
  }
 ],
 "metadata": {
  "kernelspec": {
   "display_name": "Python 3 (ipykernel)",
   "language": "python",
   "name": "python3"
  },
  "language_info": {
   "codemirror_mode": {
    "name": "ipython",
    "version": 3
   },
   "file_extension": ".py",
   "mimetype": "text/x-python",
   "name": "python",
   "nbconvert_exporter": "python",
   "pygments_lexer": "ipython3",
   "version": "3.10.13"
  }
 },
 "nbformat": 4,
 "nbformat_minor": 4
}
